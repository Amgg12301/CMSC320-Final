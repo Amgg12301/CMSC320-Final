{
  "nbformat": 4,
  "nbformat_minor": 0,
  "metadata": {
    "orig_nbformat": 2,
    "colab": {
      "name": "Copy of notebook.ipynb",
      "provenance": []
    },
    "language_info": {
      "name": "python"
    },
    "kernelspec": {
      "name": "python3",
      "display_name": "Python 3"
    }
  },
  "cells": [
    {
      "cell_type": "markdown",
      "metadata": {
        "id": "q5wLGGP0wNc0"
      },
      "source": [
        "# CMSC320 Final Project\n",
        "## Amogh Giri, Ian Yeh, Rivke Weingarten"
      ]
    },
    {
      "cell_type": "code",
      "metadata": {
        "id": "A5C0qWNPwNdA"
      },
      "source": [
        "import requests\n",
        "import pandas\n"
      ],
      "execution_count": null,
      "outputs": []
    },
    {
      "cell_type": "code",
      "metadata": {
        "id": "CzTKPnglwcF5",
        "colab": {
          "base_uri": "https://localhost:8080/"
        },
        "outputId": "4d45f996-c621-4520-b3db-4619f74c7662"
      },
      "source": [
        "# had to skip some lines which were erroring for some reason\n",
        "table = pandas.read_csv(\"https://github.com/Amgg12301/CMSC320-Final/blob/e75f50e81fd1351e18fd087be638621a2fe9547a/county_complete.csv\", error_bad_lines=False)\n"
      ],
      "execution_count": null,
      "outputs": [
        {
          "output_type": "stream",
          "text": [
            "b'Skipping line 79: expected 1 fields, saw 2\\nSkipping line 98: expected 1 fields, saw 250\\nSkipping line 99: expected 1 fields, saw 2\\nSkipping line 114: expected 1 fields, saw 3\\nSkipping line 163: expected 1 fields, saw 3\\nSkipping line 182: expected 1 fields, saw 6\\nSkipping line 208: expected 1 fields, saw 4\\nSkipping line 212: expected 1 fields, saw 2\\nSkipping line 225: expected 1 fields, saw 2\\nSkipping line 226: expected 1 fields, saw 2\\nSkipping line 232: expected 1 fields, saw 2\\nSkipping line 235: expected 1 fields, saw 2\\nSkipping line 243: expected 1 fields, saw 4\\nSkipping line 249: expected 1 fields, saw 2\\nSkipping line 254: expected 1 fields, saw 2\\nSkipping line 255: expected 1 fields, saw 2\\nSkipping line 256: expected 1 fields, saw 2\\nSkipping line 257: expected 1 fields, saw 2\\nSkipping line 258: expected 1 fields, saw 2\\nSkipping line 264: expected 1 fields, saw 2\\nSkipping line 265: expected 1 fields, saw 2\\nSkipping line 266: expected 1 fields, saw 2\\nSkipping line 267: expected 1 fields, saw 2\\nSkipping line 274: expected 1 fields, saw 2\\nSkipping line 282: expected 1 fields, saw 4\\nSkipping line 287: expected 1 fields, saw 2\\nSkipping line 290: expected 1 fields, saw 2\\nSkipping line 291: expected 1 fields, saw 2\\nSkipping line 295: expected 1 fields, saw 2\\nSkipping line 318: expected 1 fields, saw 2\\nSkipping line 488: expected 1 fields, saw 6\\nSkipping line 489: expected 1 fields, saw 3\\nSkipping line 501: expected 1 fields, saw 6\\nSkipping line 502: expected 1 fields, saw 6\\nSkipping line 588: expected 1 fields, saw 6\\nSkipping line 597: expected 1 fields, saw 6\\nSkipping line 612: expected 1 fields, saw 6\\nSkipping line 632: expected 1 fields, saw 3\\nSkipping line 643: expected 1 fields, saw 3\\nSkipping line 654: expected 1 fields, saw 3\\nSkipping line 665: expected 1 fields, saw 3\\nSkipping line 676: expected 1 fields, saw 3\\nSkipping line 687: expected 1 fields, saw 3\\nSkipping line 698: expected 1 fields, saw 3\\nSkipping line 709: expected 1 fields, saw 3\\nSkipping line 956: expected 1 fields, saw 7\\nSkipping line 1012: expected 1 fields, saw 2\\nSkipping line 1098: expected 1 fields, saw 2\\nSkipping line 1139: expected 1 fields, saw 2\\nSkipping line 1174: expected 1 fields, saw 2\\nSkipping line 1175: expected 1 fields, saw 3\\nSkipping line 1176: expected 1 fields, saw 3\\nSkipping line 1177: expected 1 fields, saw 3\\nSkipping line 1178: expected 1 fields, saw 3\\nSkipping line 1179: expected 1 fields, saw 3\\nSkipping line 1186: expected 1 fields, saw 3\\nSkipping line 1187: expected 1 fields, saw 3\\nSkipping line 1188: expected 1 fields, saw 3\\nSkipping line 1189: expected 1 fields, saw 3\\nSkipping line 1190: expected 1 fields, saw 3\\nSkipping line 1191: expected 1 fields, saw 3\\n'\n"
          ],
          "name": "stderr"
        }
      ]
    },
    {
      "cell_type": "code",
      "metadata": {
        "id": "C47h9gSkx7Jv"
      },
      "source": [
        ""
      ],
      "execution_count": null,
      "outputs": []
    }
  ]
}